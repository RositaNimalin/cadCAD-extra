{
  "nbformat": 4,
  "nbformat_minor": 0,
  "metadata": {
    "colab": {
      "name": "cadCAD_object_semantics.ipynb",
      "provenance": [],
      "collapsed_sections": [],
      "toc_visible": true
    },
    "kernelspec": {
      "name": "python3",
      "display_name": "Python 3"
    }
  },
  "cells": [
    {
      "cell_type": "markdown",
      "metadata": {
        "id": "BRaF7rzyQYLc",
        "colab_type": "text"
      },
      "source": [
        "# cadCAD object mapping proposals\n",
        "\n",
        "Note: the intent of this notebooks is to provocate and to give food for brainstorming"
      ]
    },
    {
      "cell_type": "code",
      "metadata": {
        "id": "gLdIaonlT3Cg",
        "colab_type": "code",
        "colab": {}
      },
      "source": [
        "%%capture\n",
        "!pip install cadCAD\n",
        "import inspect"
      ],
      "execution_count": 0,
      "outputs": []
    },
    {
      "cell_type": "markdown",
      "metadata": {
        "id": "SsHcgAQEO-pt",
        "colab_type": "text"
      },
      "source": [
        "## Function map\n",
        "\n",
        "On this proposal, we create cadCAD mappings for user functions. This is done via the Policy and StateUpdate functions applied to the user ones, and by using the State, Params and PolicyInput objects to create wrappers.\n",
        "\n",
        "To **create an cadCAD policy function**, we use the following:\n",
        "\n",
        "```python\n",
        "policy_function = Policy(user_function, *policy_inputs, **arguments_mappings)\n",
        "```\n",
        "\n",
        "Where the arguments_mappings must match the function signature: ie, an function given by ``f = lambda x, y: x * y`` must be wrapped by:\n",
        "\n",
        "```python\n",
        "policy_function = Policy(f, PolicyInput('input_name'), x=State('x'), y=State('y'))\n",
        "```\n",
        "\n",
        "As for the **State Update Functions**, we would use:\n",
        "\n",
        "```python\n",
        "state_update = StateUpdate(user_function, variable, **arguments_mappings)\n",
        "```\n",
        "\n",
        "I`ve written an example with batteries below."
      ]
    },
    {
      "cell_type": "code",
      "metadata": {
        "id": "rfGFLIyRPZMm",
        "colab_type": "code",
        "colab": {}
      },
      "source": [
        "# Some code for an quick prototype\n",
        "\n",
        "State = lambda x: ('prev_state', x)\n",
        "Params = lambda x: ('params', x)\n",
        "PolicyInput = lambda x: ('policy_input', x)\n",
        "Policy = lambda f, *args, **kwargs: None\n",
        "StateUpdate = lambda f, state, **kwargs: None \n",
        "\n",
        "\n",
        "def Policy(f, *args, **kwargs):\n",
        "  policy_function = None\n",
        "  def policy_function(params, substep, state_history, prev_state):\n",
        "    kwargs_map = {}\n",
        "    for key, value in kwargs.items():\n",
        "      kwarg_type = value[0]\n",
        "      kwarg_value = value[1]\n",
        "      if kwarg_type == 'prev_state':\n",
        "        kwargs_map[key] = prev_state[kwarg_value]\n",
        "      elif kwarg_type == 'params':\n",
        "        kwargs_map[key] = params[kwarg_value]\n",
        "    function_output = f(**kwargs_map)\n",
        "    policy_input = args[0][1]\n",
        "    return {policy_input: function_output}\n",
        "  return policy_function\n",
        "\n",
        "def StateUpdate(f, variable, **kwargs):\n",
        "  state_update = None\n",
        "  def state_update(params, substep, state_history, prev_state, policy_input):\n",
        "    kwargs_map = {}\n",
        "    for key, value in kwargs.items():\n",
        "      kwarg_type = value[0]\n",
        "      kwarg_value = value[1]\n",
        "      if kwarg_type == 'prev_state':\n",
        "        kwargs_map[key] = prev_state[kwarg_value]\n",
        "      elif kwarg_type == 'params':\n",
        "        kwargs_map[key] = params[kwarg_value]\n",
        "      elif kwarg_type == 'policy_input':\n",
        "        kwargs_map[key] = policy_input[kwarg_value]\n",
        "    function_output = f(**kwargs_map)\n",
        "    return (variable, function_output)\n",
        "  return state_update\n",
        "   "
      ],
      "execution_count": 0,
      "outputs": []
    },
    {
      "cell_type": "markdown",
      "metadata": {
        "id": "KKJD5gAud_os",
        "colab_type": "text"
      },
      "source": [
        "### Example of real usage\n",
        "\n",
        "**User functions**"
      ]
    },
    {
      "cell_type": "code",
      "metadata": {
        "id": "KmAHh26CDFfA",
        "colab_type": "code",
        "colab": {}
      },
      "source": [
        "## User functions\n",
        "def logistic_map(x: float, a: float) -> float:\n",
        "  return a * x * (1 - x)\n",
        "\n",
        "def update_population(x: float) -> float:\n",
        "  return x"
      ],
      "execution_count": 0,
      "outputs": []
    },
    {
      "cell_type": "markdown",
      "metadata": {
        "id": "J504Mb_Bck69",
        "colab_type": "text"
      },
      "source": [
        "**PSUB building**"
      ]
    },
    {
      "cell_type": "code",
      "metadata": {
        "id": "wKvUIIEgb7Kl",
        "colab_type": "code",
        "colab": {}
      },
      "source": [
        "partial_state_update_blocks = [\n",
        "  {\n",
        "      'policies': {\n",
        "          'logistic_map': Policy(logistic_map,\n",
        "                                 PolicyInput('new_population'),\n",
        "                                 x=State('population'),\n",
        "                                 a=Params('control_parameter'))\n",
        "      },\n",
        "      'variables': {\n",
        "          'population': StateUpdate(update_population, \n",
        "                                    'population',\n",
        "                                    x=PolicyInput('new_population'))\n",
        "      }\n",
        "  }\n",
        "]"
      ],
      "execution_count": 0,
      "outputs": []
    },
    {
      "cell_type": "markdown",
      "metadata": {
        "id": "9oD-XEVPeMQt",
        "colab_type": "text"
      },
      "source": [
        "**Quick test**"
      ]
    },
    {
      "cell_type": "code",
      "metadata": {
        "colab_type": "code",
        "outputId": "96c0d0fa-cc84-48dc-c1f3-9a36a8228da0",
        "id": "shUZhWpvcSa3",
        "colab": {
          "base_uri": "https://localhost:8080/",
          "height": 52
        }
      },
      "source": [
        "logistic_map(0.7, 2.7)\n",
        "policy = partial_state_update_blocks[0]['policies']['logistic_map']\n",
        "print(policy({'control_parameter': 3.7}, {}, {}, {'population': 0.7}))\n",
        "print(logistic_map(0.7, 3.7))"
      ],
      "execution_count": 0,
      "outputs": [
        {
          "output_type": "stream",
          "text": [
            "{'new_population': 0.777}\n",
            "0.777\n"
          ],
          "name": "stdout"
        }
      ]
    },
    {
      "cell_type": "markdown",
      "metadata": {
        "id": "6wTSR7n2eQdc",
        "colab_type": "text"
      },
      "source": [
        "**Actual cadCAD usage**"
      ]
    },
    {
      "cell_type": "code",
      "metadata": {
        "id": "8NcXGzZYeP6G",
        "colab_type": "code",
        "outputId": "2536205d-5fdd-4f02-fa4c-0e964335f74f",
        "colab": {
          "base_uri": "https://localhost:8080/",
          "height": 194
        }
      },
      "source": [
        "from cadCAD.configuration import Configuration\n",
        "from cadCAD.engine import ExecutionMode, ExecutionContext, Executor\n",
        "import pandas as pd\n",
        "import seaborn as sns\n",
        "import matplotlib.pyplot as plt\n",
        "\n",
        "genesis_state = {\n",
        "    'population': 0.01\n",
        "}\n",
        "\n",
        "sim_config = (\n",
        "    {\n",
        "        'N': 1,\n",
        "        'T': range(1000), # number of timesteps\n",
        "        'M': {'control_parameter': 3.7},\n",
        "    }\n",
        ")\n",
        "\n",
        "\n",
        "config = Configuration(\n",
        "    sim_config=sim_config,\n",
        "    initial_state=genesis_state,\n",
        "    partial_state_update_blocks=partial_state_update_blocks\n",
        ")\n",
        "\n",
        "exec_mode = ExecutionMode()\n",
        "exec_context = ExecutionContext(exec_mode.multi_proc)\n",
        "executor = Executor(exec_context, [config]) # Pass the configuration object inside an array\n",
        "raw_result = executor.execute() # The `execute()` method returns a tuple; its first elements contains the raw results\n",
        "data = pd.DataFrame(raw_result[0][0])"
      ],
      "execution_count": 0,
      "outputs": [
        {
          "output_type": "stream",
          "text": [
            "\n",
            "                            __________   ____ \n",
            "          ________ __ _____/ ____/   |  / __ \\\n",
            "         / ___/ __` / __  / /   / /| | / / / /\n",
            "        / /__/ /_/ / /_/ / /___/ ___ |/ /_/ / \n",
            "        \\___/\\__,_/\\__,_/\\____/_/  |_/_____/  \n",
            "        by BlockScience\n",
            "        \n",
            "Execution Mode: multi_proc: [<cadCAD.configuration.Configuration object at 0x7f718a965908>]\n",
            "Configurations: [<cadCAD.configuration.Configuration object at 0x7f718a965908>]\n"
          ],
          "name": "stdout"
        }
      ]
    },
    {
      "cell_type": "code",
      "metadata": {
        "id": "ROZP3ziif98M",
        "colab_type": "code",
        "outputId": "9b873539-e232-46b2-ba5b-856bf8866d95",
        "colab": {
          "base_uri": "https://localhost:8080/",
          "height": 296
        }
      },
      "source": [
        "n = 3\n",
        "t = data.timestep[3::n].values\n",
        "x = data.population[4::n].values\n",
        "y = data.population[3::n].values\n",
        "new_data = pd.DataFrame({'t': t, 'x': x, 'y': y})\n",
        "sns.scatterplot(data=new_data, x='x', y='y', hue='t')"
      ],
      "execution_count": 0,
      "outputs": [
        {
          "output_type": "execute_result",
          "data": {
            "text/plain": [
              "<matplotlib.axes._subplots.AxesSubplot at 0x7f717e5f15f8>"
            ]
          },
          "metadata": {
            "tags": []
          },
          "execution_count": 7
        },
        {
          "output_type": "display_data",
          "data": {
            "image/png": "[encoded data removed]",
            "text/plain": [
              "<Figure size 432x288 with 1 Axes>"
            ]
          },
          "metadata": {
            "tags": []
          }
        }
      ]
    },
    {
      "cell_type": "markdown",
      "metadata": {
        "id": "tz_4UFN6QfxR",
        "colab_type": "text"
      },
      "source": [
        "## Class map\n",
        "\n",
        "\n",
        "```python\n",
        "@policy_function\n",
        "def user_function(x, a, b, c):\n",
        "  return y\n",
        "```"
      ]
    },
    {
      "cell_type": "markdown",
      "metadata": {
        "id": "RmBKthflQdM6",
        "colab_type": "text"
      },
      "source": [
        "## Decorators\n",
        "\n",
        "Another analogous way of doing the same of above, would be using python decorators with parameters\n",
        "\n",
        "```\n",
        "@policy(PolicyInput('user_signal'),\n",
        "        x=State('state_of_x'),\n",
        "        a=Param('param_a'))\n",
        "def user_function(x, a, b=1.5, c=2.0):\n",
        "  return output\n",
        "```"
      ]
    },
    {
      "cell_type": "markdown",
      "metadata": {
        "id": "vl9w4awbnpwB",
        "colab_type": "text"
      },
      "source": [
        "### Quick prototype"
      ]
    },
    {
      "cell_type": "code",
      "metadata": {
        "id": "TyoQPoTMjx2P",
        "colab_type": "code",
        "colab": {}
      },
      "source": [
        "# Some code for an quick prototype\n",
        "import functools\n",
        "\n",
        "\n",
        "State = lambda x: ('prev_state', x)\n",
        "Params = lambda x: ('params', x)\n",
        "PolicyInput = lambda x: ('policy_input', x)\n",
        "Policy = lambda f, *args, **kwargs: None\n",
        "StateUpdate = lambda f, state, **kwargs: None \n",
        "\n",
        "\n",
        "def generate_policy(*args, **kwargs):\n",
        "  def decorator(f):\n",
        "    def policy_function(params, substep, state_history, prev_state):\n",
        "      kwargs_map = {}\n",
        "      for key, value in kwargs.items():\n",
        "        kwarg_type = value[0]\n",
        "        kwarg_value = value[1]\n",
        "        if kwarg_type == 'prev_state':\n",
        "          kwargs_map[key] = prev_state[kwarg_value]\n",
        "        elif kwarg_type == 'params':\n",
        "          kwargs_map[key] = params[kwarg_value]\n",
        "      function_output = f(**kwargs_map)\n",
        "      policy_input = args[0][1]\n",
        "      return {policy_input: function_output}\n",
        "    return policy_function\n",
        "  return decorator\n",
        "\n",
        "def generate_state_update(variable, **kwargs):\n",
        "  def decorator(f):\n",
        "    def state_update(params, substep, state_history, prev_state, policy_input):\n",
        "      kwargs_map = {}\n",
        "      for key, value in kwargs.items():\n",
        "        kwarg_type = value[0]\n",
        "        kwarg_value = value[1]\n",
        "        if kwarg_type == 'prev_state':\n",
        "          kwargs_map[key] = prev_state[kwarg_value]\n",
        "        elif kwarg_type == 'params':\n",
        "          kwargs_map[key] = params[kwarg_value]\n",
        "        elif kwarg_type == 'policy_input':\n",
        "          kwargs_map[key] = policy_input[kwarg_value]\n",
        "      function_output = f(**kwargs_map)\n",
        "      return (variable, function_output)\n",
        "    return state_update\n",
        "  return decorator\n",
        "   "
      ],
      "execution_count": 0,
      "outputs": []
    },
    {
      "cell_type": "markdown",
      "metadata": {
        "id": "0uZvX0WVns0P",
        "colab_type": "text"
      },
      "source": [
        "### User input"
      ]
    },
    {
      "cell_type": "code",
      "metadata": {
        "id": "nTAAP5EQjNtW",
        "colab_type": "code",
        "colab": {}
      },
      "source": [
        "## User functions\n",
        "@generate_policy(PolicyInput('new_population'),\n",
        "                 x=State('population'),\n",
        "                 a=Params('control_parameter'))\n",
        "def logistic_policy(x: float, a: float) -> float:\n",
        "  return a * x * (1 - x)\n",
        "\n",
        "@generate_state_update('population',\n",
        "                       x=PolicyInput('new_population'))\n",
        "def logistic_update(x: float) -> float:\n",
        "  return x"
      ],
      "execution_count": 0,
      "outputs": []
    },
    {
      "cell_type": "code",
      "metadata": {
        "id": "zd2m8qDNYsoA",
        "colab_type": "code",
        "outputId": "fddef1a7-5336-4860-e554-da461c5c66b7",
        "colab": {
          "base_uri": "https://localhost:8080/",
          "height": 52
        }
      },
      "source": [
        "print(logistic_policy({'control_parameter': 3.7}, {}, {}, {'population': 0.7}))\n",
        "print(logistic_map(0.7, 3.7))"
      ],
      "execution_count": 0,
      "outputs": [
        {
          "output_type": "stream",
          "text": [
            "{'new_population': 0.777}\n",
            "0.777\n"
          ],
          "name": "stdout"
        }
      ]
    },
    {
      "cell_type": "markdown",
      "metadata": {
        "id": "C64sRPmEnwu4",
        "colab_type": "text"
      },
      "source": [
        "### Actual cadCAD usage"
      ]
    },
    {
      "cell_type": "code",
      "metadata": {
        "id": "bQuzkX_pncvC",
        "colab_type": "code",
        "outputId": "d04b1648-6c34-4ab5-f377-909307537f55",
        "colab": {
          "base_uri": "https://localhost:8080/",
          "height": 474
        }
      },
      "source": [
        "from cadCAD.configuration import Configuration\n",
        "from cadCAD.engine import ExecutionMode, ExecutionContext, Executor\n",
        "import pandas as pd\n",
        "import seaborn as sns\n",
        "import matplotlib.pyplot as plt\n",
        "\n",
        "\n",
        "partial_state_update_blocks = [\n",
        "  {\n",
        "      'policies': {\n",
        "          'logistic_map': logistic_policy\n",
        "      },\n",
        "      'variables': {\n",
        "          'population': logistic_update\n",
        "      }\n",
        "  }\n",
        "]\n",
        "\n",
        "genesis_state = {\n",
        "    'population': 0.01\n",
        "}\n",
        "\n",
        "sim_config = (\n",
        "    {\n",
        "        'N': 1,\n",
        "        'T': range(1000), # number of timesteps\n",
        "        'M': {'control_parameter': 3.7},\n",
        "    }\n",
        ")\n",
        "\n",
        "\n",
        "config = Configuration(\n",
        "    sim_config=sim_config,\n",
        "    initial_state=genesis_state,\n",
        "    partial_state_update_blocks=partial_state_update_blocks\n",
        ")\n",
        "\n",
        "exec_mode = ExecutionMode()\n",
        "exec_context = ExecutionContext(exec_mode.multi_proc)\n",
        "executor = Executor(exec_context, [config]) # Pass the configuration object inside an array\n",
        "raw_result = executor.execute() # The `execute()` method returns a tuple; its first elements contains the raw results\n",
        "data = pd.DataFrame(raw_result[0][0])\n",
        "n = 3\n",
        "t = data.timestep[3::n].values\n",
        "x = data.population[4::n].values\n",
        "y = data.population[3::n].values\n",
        "new_data = pd.DataFrame({'t': t, 'x': x, 'y': y})\n",
        "sns.scatterplot(data=new_data, x='x', y='y', hue='t')"
      ],
      "execution_count": 0,
      "outputs": [
        {
          "output_type": "stream",
          "text": [
            "\n",
            "                            __________   ____ \n",
            "          ________ __ _____/ ____/   |  / __ \\\n",
            "         / ___/ __` / __  / /   / /| | / / / /\n",
            "        / /__/ /_/ / /_/ / /___/ ___ |/ /_/ / \n",
            "        \\___/\\__,_/\\__,_/\\____/_/  |_/_____/  \n",
            "        by BlockScience\n",
            "        \n",
            "Execution Mode: multi_proc: [<cadCAD.configuration.Configuration object at 0x7f718b6336a0>]\n",
            "Configurations: [<cadCAD.configuration.Configuration object at 0x7f718b6336a0>]\n"
          ],
          "name": "stdout"
        },
        {
          "output_type": "execute_result",
          "data": {
            "text/plain": [
              "<matplotlib.axes._subplots.AxesSubplot at 0x7f717b787e10>"
            ]
          },
          "metadata": {
            "tags": []
          },
          "execution_count": 13
        },
        {
          "output_type": "display_data",
          "data": {
            "image/png": "[encoded data removed]",
            "text/plain": [
              "<Figure size 432x288 with 1 Axes>"
            ]
          },
          "metadata": {
            "tags": []
          }
        }
      ]
    },
    {
      "cell_type": "code",
      "metadata": {
        "id": "pJCBuCixnn8y",
        "colab_type": "code",
        "colab": {}
      },
      "source": [
        ""
      ],
      "execution_count": 0,
      "outputs": []
    }
  ]
}