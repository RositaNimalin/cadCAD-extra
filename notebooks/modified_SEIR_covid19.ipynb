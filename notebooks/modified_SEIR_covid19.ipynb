{
  "nbformat": 4,
  "nbformat_minor": 0,
  "metadata": {
    "colab": {
      "name": "modified_SEIR_covid19.ipynb",
      "provenance": [],
      "collapsed_sections": []
    },
    "kernelspec": {
      "display_name": "Python 3",
      "language": "python",
      "name": "python3"
    },
    "language_info": {
      "codemirror_mode": {
        "name": "ipython",
        "version": 3
      },
      "file_extension": ".py",
      "mimetype": "text/x-python",
      "name": "python",
      "nbconvert_exporter": "python",
      "pygments_lexer": "ipython3",
      "version": "3.7.5"
    }
  },
  "cells": [
    {
      "cell_type": "code",
      "metadata": {
        "id": "rIYWKtJKKoQt",
        "colab_type": "code",
        "colab": {}
      },
      "source": [
        "%%capture\n",
        "!pip install cadCAD"
      ],
      "execution_count": 0,
      "outputs": []
    },
    {
      "cell_type": "markdown",
      "metadata": {
        "id": "FuwDSsN6KtQV",
        "colab_type": "text"
      },
      "source": [
        "# Modified SEIR on cadCAD\n",
        "\n",
        "This is an modified SEIR model implementation for didatic purposes by the cadCAD.br people. We've used the model and parameters from the \"Epidemic analysis of COVID-19 in China by dynamical modeling\" article (https://arxiv.org/pdf/2002.06563.pdf).\n",
        "\n",
        "Feel free to modify the parameters and blocks.\n"
      ]
    },
    {
      "cell_type": "code",
      "metadata": {
        "colab_type": "code",
        "id": "f6q5AjPfbo9S",
        "colab": {}
      },
      "source": [
        "POPULATION = 8 * 1e6 # Sao Paulo Population\n",
        "\n",
        "genesis_state = {\n",
        "    'susceptible_pop': POPULATION, # Human count\n",
        "    'insusceptible_pop': 0, # Human count\n",
        "    'exposed_pop': 0, # Human count\n",
        "    'infective_pop': 100, # Human count\n",
        "    'quarantined_pop': 0, # Human count\n",
        "    'recovered_pop': 0, # Human count\n",
        "    'killed_pop': 0, # Human count\n",
        "    'cure_rate': 0.97 / 14, # day⁻¹\n",
        "    'death_rate': 0.03 / 14  # day⁻¹\n",
        "}\n",
        "\n",
        "parameters = {\n",
        "    'protection_rate': 0.08, # Ratio - Percentage of insusceptible people protecting themselves\n",
        "    'infection_rate': 1.0, # Humans per day - How much other people each infective person infects per day\n",
        "    'average_latent_time': 2, # Days\n",
        "    'average_quarantine_time': 7 # Days\n",
        "}"
      ],
      "execution_count": 0,
      "outputs": []
    },
    {
      "cell_type": "code",
      "metadata": {
        "colab_type": "code",
        "id": "d7DEpIYxqJir",
        "colab": {}
      },
      "source": [
        "## Functions\n",
        "\n",
        "def total_pop(s):\n",
        "    total = s.get('susceptible_pop', 0)\n",
        "    total += s.get('insusceptible_pop', 0)\n",
        "    total += s.get('exposed_pop', 0)\n",
        "    total += s.get('infective_pop', 0)\n",
        "    total += s.get('quarantined_pop', 0)\n",
        "    total += s.get('recovered_pop', 0)\n",
        "    return total\n",
        "\n",
        "## Policies\n",
        "\n",
        "def p_move_people_to_mountains(params, substep, state_history, prev_state):\n",
        "    delta = params['protection_rate']\n",
        "    delta *= prev_state['susceptible_pop']\n",
        "    return {'delta_P': delta,\n",
        "            'delta_S': -delta}\n",
        "\n",
        "def p_expose_people(params, substep, state_history, prev_state):\n",
        "    delta = params['infection_rate']\n",
        "    delta *= prev_state['susceptible_pop']\n",
        "    delta *= prev_state['infective_pop']\n",
        "    delta /= total_pop(prev_state)\n",
        "    return {'delta_E': delta,\n",
        "            'delta_S': -delta}\n",
        "\n",
        "\n",
        "def p_progress_disease(params, substep, state_history, prev_state):\n",
        "    delta = prev_state['exposed_pop'] / params['average_latent_time']\n",
        "    return {'delta_E': -delta,\n",
        "            'delta_I': delta}\n",
        "\n",
        "def p_quarantine_people(params, substep, state_history, prev_state):\n",
        "    delta = prev_state['infective_pop'] / params['average_quarantine_time']\n",
        "    return {'delta_I': -delta,\n",
        "            'delta_Q': delta}  \n",
        "\n",
        "def p_recovery(params, substep, state_history, prev_state):\n",
        "    delta = prev_state['quarantined_pop'] * prev_state['cure_rate']\n",
        "    return {'delta_R': delta,\n",
        "            'delta_Q': -delta}  \n",
        "\n",
        "\n",
        "def p_death(params, substep, state_history, prev_state):\n",
        "    delta = prev_state['quarantined_pop'] * prev_state['death_rate']\n",
        "    return {'delta_D': delta,\n",
        "            'delta_Q': -delta}  \n",
        "\n",
        "\n",
        "## State Update Functions\n",
        "\n",
        "def s_susceptible_pop(params, substep, state_history, prev_state, policy_input):\n",
        "  new_value = prev_state['susceptible_pop'] + policy_input.get('delta_S', 0)\n",
        "  return ('susceptible_pop', new_value)\n",
        "\n",
        "\n",
        "def s_insusceptible_pop(params, substep, state_history, prev_state, policy_input):\n",
        "  new_value = prev_state['insusceptible_pop'] + policy_input.get('delta_P', 0)\n",
        "  return ('insusceptible_pop', new_value)\n",
        "\n",
        "\n",
        "def s_exposed_pop(params, substep, state_history, prev_state, policy_input):\n",
        "  new_value = prev_state['exposed_pop'] + policy_input.get('delta_E', 0)\n",
        "  return ('exposed_pop', new_value)\n",
        "\n",
        "\n",
        "def s_infective_pop(params, substep, state_history, prev_state, policy_input):\n",
        "  new_value = prev_state['infective_pop'] + policy_input.get('delta_I', 0)\n",
        "  return ('infective_pop', new_value)\n",
        "\n",
        "\n",
        "def s_quarantine_pop(params, substep, state_history, prev_state, policy_input):\n",
        "  new_value = prev_state['quarantined_pop'] + policy_input.get('delta_Q', 0)\n",
        "  return ('quarantined_pop', new_value)\n",
        "\n",
        "\n",
        "def s_recovered_pop(params, substep, state_history, prev_state, policy_input):\n",
        "  new_value = prev_state['recovered_pop'] + policy_input.get('delta_R', 0)\n",
        "  return ('recovered_pop', new_value)\n",
        "\n",
        "\n",
        "def s_killed_pop(params, substep, state_history, prev_state, policy_input):\n",
        "  new_value = prev_state['killed_pop'] + policy_input.get('delta_D', 0)\n",
        "  return ('killed_pop', new_value)"
      ],
      "execution_count": 0,
      "outputs": []
    },
    {
      "cell_type": "code",
      "metadata": {
        "colab_type": "code",
        "id": "u5CcSkjPqIRJ",
        "colab": {}
      },
      "source": [
        "partial_state_update_block = [\n",
        "  {\n",
        "      'policies': {\n",
        "        'move_people_to_mountains': p_move_people_to_mountains,\n",
        "        'expose_people': p_expose_people,\n",
        "        'progress_disease': p_progress_disease,\n",
        "        'quarantine_people': p_quarantine_people,\n",
        "        'recovery': p_recovery,\n",
        "        'death': p_death\n",
        "      },\n",
        "      'variables': {\n",
        "        'susceptible_pop': s_susceptible_pop,\n",
        "        'insusceptible_pop': s_insusceptible_pop,\n",
        "        'exposed_pop': s_exposed_pop,\n",
        "        'infective_pop': s_infective_pop,\n",
        "        'quarantined_pop': s_quarantine_pop,\n",
        "        'recovered_pop': s_recovered_pop,\n",
        "        'killed_pop': s_killed_pop\n",
        "      }\n",
        "  }\n",
        "]"
      ],
      "execution_count": 0,
      "outputs": []
    },
    {
      "cell_type": "code",
      "metadata": {
        "colab_type": "code",
        "id": "L3heIJzmrAc1",
        "colab": {}
      },
      "source": [
        "from cadCAD.configuration import Configuration\n",
        "from cadCAD.engine import ExecutionMode, ExecutionContext, Executor\n",
        "\n",
        "\n",
        "sim_config = (\n",
        "    {\n",
        "        'N': 1,\n",
        "        'T': range(90), # number of timesteps\n",
        "        'M': parameters,\n",
        "    }\n",
        ")\n",
        "config = Configuration(\n",
        "    sim_config=sim_config,\n",
        "    initial_state=genesis_state,\n",
        "    partial_state_update_blocks=partial_state_update_block\n",
        ")"
      ],
      "execution_count": 0,
      "outputs": []
    },
    {
      "cell_type": "code",
      "metadata": {
        "colab_type": "code",
        "id": "hm-8yR6Su87L",
        "outputId": "8770e15c-a9c9-43b6-c039-2d985ce274e0",
        "colab": {
          "base_uri": "https://localhost:8080/",
          "height": 194
        }
      },
      "source": [
        "import pandas as pd\n",
        "import seaborn as sns\n",
        "import matplotlib.pyplot as plt\n",
        "\n",
        "exec_mode = ExecutionMode()\n",
        "exec_context = ExecutionContext(exec_mode.multi_proc)\n",
        "executor = Executor(exec_context, [config]) # Pass the configuration object inside an array\n",
        "raw_result = executor.execute() # The `execute()` method returns a tuple; its first elements contains the raw results\n",
        "data = pd.DataFrame(raw_result[0][0])"
      ],
      "execution_count": 0,
      "outputs": [
        {
          "output_type": "stream",
          "text": [
            "\n",
            "                            __________   ____ \n",
            "          ________ __ _____/ ____/   |  / __ \\\n",
            "         / ___/ __` / __  / /   / /| | / / / /\n",
            "        / /__/ /_/ / /_/ / /___/ ___ |/ /_/ / \n",
            "        \\___/\\__,_/\\__,_/\\____/_/  |_/_____/  \n",
            "        by BlockScience\n",
            "        \n",
            "Execution Mode: multi_proc: [<cadCAD.configuration.Configuration object at 0x7fdc3dae8ac8>]\n",
            "Configurations: [<cadCAD.configuration.Configuration object at 0x7fdc3dae8ac8>]\n"
          ],
          "name": "stdout"
        }
      ]
    },
    {
      "cell_type": "code",
      "metadata": {
        "id": "8athXO2qKl_P",
        "colab_type": "code",
        "outputId": "2d1d213c-1ce4-47fb-a495-12520b4ca2df",
        "colab": {
          "base_uri": "https://localhost:8080/",
          "height": 293
        }
      },
      "source": [
        "plt.figure(figsize=(15, 5))\n",
        "data.plot()\n",
        "plt.show()"
      ],
      "execution_count": 0,
      "outputs": [
        {
          "output_type": "display_data",
          "data": {
            "text/plain": [
              "<Figure size 1080x360 with 0 Axes>"
            ]
          },
          "metadata": {
            "tags": []
          }
        },
        {
          "output_type": "display_data",
          "data": {
            "image/png": "[encoded data removed]",
            "text/plain": [
              "<Figure size 432x288 with 1 Axes>"
            ]
          },
          "metadata": {
            "tags": []
          }
        }
      ]
    },
    {
      "cell_type": "code",
      "metadata": {
        "id": "y4edynnBKl_f",
        "colab_type": "code",
        "outputId": "1c361c86-1e2b-4408-9bf8-d5d66fb4435c",
        "colab": {
          "base_uri": "https://localhost:8080/",
          "height": 77
        }
      },
      "source": [
        "data.tail(1)"
      ],
      "execution_count": 0,
      "outputs": [
        {
          "output_type": "execute_result",
          "data": {
            "text/html": [
              "<div>\n",
              "<style scoped>\n",
              "    .dataframe tbody tr th:only-of-type {\n",
              "        vertical-align: middle;\n",
              "    }\n",
              "\n",
              "    .dataframe tbody tr th {\n",
              "        vertical-align: top;\n",
              "    }\n",
              "\n",
              "    .dataframe thead th {\n",
              "        text-align: right;\n",
              "    }\n",
              "</style>\n",
              "<table border=\"1\" class=\"dataframe\">\n",
              "  <thead>\n",
              "    <tr style=\"text-align: right;\">\n",
              "      <th></th>\n",
              "      <th>susceptible_pop</th>\n",
              "      <th>insusceptible_pop</th>\n",
              "      <th>exposed_pop</th>\n",
              "      <th>infective_pop</th>\n",
              "      <th>quarantined_pop</th>\n",
              "      <th>recovered_pop</th>\n",
              "      <th>killed_pop</th>\n",
              "      <th>cure_rate</th>\n",
              "      <th>death_rate</th>\n",
              "      <th>run</th>\n",
              "      <th>substep</th>\n",
              "      <th>timestep</th>\n",
              "    </tr>\n",
              "  </thead>\n",
              "  <tbody>\n",
              "    <tr>\n",
              "      <th>90</th>\n",
              "      <td>4346.606314</td>\n",
              "      <td>7.981606e+06</td>\n",
              "      <td>0.003065</td>\n",
              "      <td>1.634169</td>\n",
              "      <td>240.12406</td>\n",
              "      <td>13488.94622</td>\n",
              "      <td>417.183904</td>\n",
              "      <td>0.069286</td>\n",
              "      <td>0.002143</td>\n",
              "      <td>1</td>\n",
              "      <td>1</td>\n",
              "      <td>90</td>\n",
              "    </tr>\n",
              "  </tbody>\n",
              "</table>\n",
              "</div>"
            ],
            "text/plain": [
              "    susceptible_pop  insusceptible_pop  exposed_pop  ...  run  substep  timestep\n",
              "90      4346.606314       7.981606e+06     0.003065  ...    1        1        90\n",
              "\n",
              "[1 rows x 12 columns]"
            ]
          },
          "metadata": {
            "tags": []
          },
          "execution_count": 8
        }
      ]
    },
    {
      "cell_type": "code",
      "metadata": {
        "id": "Ie6sViYQKl_r",
        "colab_type": "code",
        "outputId": "993de891-a1a3-47b5-a1c8-34d2280eaed6",
        "colab": {
          "base_uri": "https://localhost:8080/",
          "height": 282
        }
      },
      "source": [
        "data.killed_pop.plot()"
      ],
      "execution_count": 0,
      "outputs": [
        {
          "output_type": "execute_result",
          "data": {
            "text/plain": [
              "<matplotlib.axes._subplots.AxesSubplot at 0x7fdc3dbbfbe0>"
            ]
          },
          "metadata": {
            "tags": []
          },
          "execution_count": 9
        },
        {
          "output_type": "display_data",
          "data": {
            "image/png": "[encoded data removed]",
            "text/plain": [
              "<Figure size 432x288 with 1 Axes>"
            ]
          },
          "metadata": {
            "tags": []
          }
        }
      ]
    },
    {
      "cell_type": "code",
      "metadata": {
        "id": "wt80zoL5Kl_2",
        "colab_type": "code",
        "colab": {}
      },
      "source": [
        ""
      ],
      "execution_count": 0,
      "outputs": []
    }
  ]
}